{
 "cells": [
  {
   "cell_type": "code",
   "execution_count": 1,
   "metadata": {},
   "outputs": [],
   "source": [
    "import pandas as pd\n",
    "from bs4 import BeautifulSoup\n",
    "import requests\n",
    "from lxml import etree\n",
    "from lxml.etree import tostring\n"
   ]
  },
  {
   "cell_type": "code",
   "execution_count": 2,
   "metadata": {},
   "outputs": [],
   "source": [
    "r = requests.get('https://listado.mercadolibre.com.ar/computador')\n",
    "boul = BeautifulSoup(r.content, 'html.parser')"
   ]
  },
  {
   "cell_type": "code",
   "execution_count": 3,
   "metadata": {},
   "outputs": [],
   "source": [
    "# titulo|nombre //h2[@class=\"ui-search-item__title shops__item-title\"]\n",
    "titulo = boul.find_all('h2', {'class': 'ui-search-item__title shops__item-title'})\n",
    "titulo = [i.text for i in titulo]\n"
   ]
  },
  {
   "cell_type": "code",
   "execution_count": 4,
   "metadata": {},
   "outputs": [
    {
     "data": {
      "text/plain": [
       "56"
      ]
     },
     "execution_count": 4,
     "metadata": {},
     "output_type": "execute_result"
    }
   ],
   "source": [
    "len(titulo)\n"
   ]
  },
  {
   "cell_type": "code",
   "execution_count": 5,
   "metadata": {},
   "outputs": [],
   "source": [
    "# urls '//a[@class=\"ui-search-item__group__element shops__items-group-details ui-search-link\"]'\n",
    "urls= boul.find_all('a', {'class':'ui-search-item__group__element shops__items-group-details ui-search-link'})\n",
    "urls = [i.get('href') for i in urls]\n"
   ]
  },
  {
   "cell_type": "code",
   "execution_count": 6,
   "metadata": {},
   "outputs": [
    {
     "data": {
      "text/plain": [
       "56"
      ]
     },
     "execution_count": 6,
     "metadata": {},
     "output_type": "execute_result"
    }
   ],
   "source": [
    "len(urls)\n"
   ]
  },
  {
   "cell_type": "code",
   "execution_count": 7,
   "metadata": {},
   "outputs": [],
   "source": [
    "# //li[@class=\"ui-search-layout__item shops__layout-item\"]//div[@class=\"ui-search-result__content-columns shops__content-columns\"]/div[1]/div[1]/div[1]//div[@class=\"ui-search-price__second-line shops__price-second-line\"]//span[@class=\"price-tag-amount\"]/span[2]\n",
    "\n",
    "dom = etree.HTML(str(boul))\n"
   ]
  },
  {
   "cell_type": "code",
   "execution_count": 9,
   "metadata": {},
   "outputs": [
    {
     "data": {
      "text/plain": [
       "56"
      ]
     },
     "execution_count": 9,
     "metadata": {},
     "output_type": "execute_result"
    }
   ],
   "source": [
    "#//span[@class=\"price-tag-amount\"]//span[2]\n",
    "#//li[@class=\"ui-search-layout__item shops__layout-item\"]//div[@class=\"ui-search-result__content-columns shops__content-columns\"]/div[1]/div[1]/div[1]//div[@class=\"ui-search-price__second-line shops__price-second-line\"]//span[@class=\"price-tag-amount\"]/span[2]')\n",
    "# //li[@class=\"ui-search-layout__item\"]//div[@class=\"ui-search-result__content-columns\"]/div[@class=\"ui-search-result__content-column ui-search-result__content-column--left\"]/div[1]/div//div[@class=\"ui-search-price__second-line\"]//span[@class=\"price-tag-amount\"]/span[2]\n",
    "precio = (dom.xpath('//li[@class=\"ui-search-layout__item shops__layout-item\"]//div[@class=\"ui-search-result__content-wrapper shops__result-content-wrapper\"]//div[@class=\"ui-search-result__content-columns shops__content-columns\"]//div[@class=\"ui-search-result__content-column ui-search-result__content-column--left shops__content-columns-left\"]/div[1]/div/div/div//span[@class=\"price-tag ui-search-price__part shops__price-part\"]//span[@class=\"price-tag-amount\"]//span[@class=\"price-tag-fraction\"]'))\n",
    "precio = [i.text for i in precio]\n",
    "len(precio)\n",
    "\n"
   ]
  },
  {
   "cell_type": "code",
   "execution_count": 13,
   "metadata": {},
   "outputs": [],
   "source": [
    "siguiente = dom.xpath('//div[@class=\"ui-search-pagination shops__pagination-content\"]/ul/li[contains(@class,\"--next\")]/a')[0].get('href')\n"
   ]
  },
  {
   "cell_type": "code",
   "execution_count": 26,
   "metadata": {},
   "outputs": [
    {
     "data": {
      "text/plain": [
       "1"
      ]
     },
     "execution_count": 26,
     "metadata": {},
     "output_type": "execute_result"
    }
   ],
   "source": [
    "#//span[@class=\"andes-pagination__link\"]\n",
    "init = boul.find('span', {\"class\":'andes-pagination__link'}).text\n",
    "init = int(init)\n",
    "init"
   ]
  },
  {
   "cell_type": "code",
   "execution_count": 42,
   "metadata": {},
   "outputs": [
    {
     "data": {
      "text/plain": [
       "40"
      ]
     },
     "execution_count": 42,
     "metadata": {},
     "output_type": "execute_result"
    }
   ],
   "source": [
    "# //li[@class=\"andes-pagination__page-count\"]\n",
    "end = boul.find('li', {'class':'andes-pagination__page-count'})\n",
    "end = int(end.text.split(\" \")[1])\n",
    "end"
   ]
  },
  {
   "cell_type": "code",
   "execution_count": 48,
   "metadata": {},
   "outputs": [
    {
     "name": "stdout",
     "output_type": "stream",
     "text": [
      "1 40\n",
      "2 40\n",
      "3 40\n",
      "4 40\n",
      "5 40\n",
      "6 40\n",
      "7 40\n",
      "8 40\n",
      "9 40\n",
      "10 40\n",
      "11 40\n",
      "12 40\n",
      "13 40\n",
      "14 40\n",
      "15 40\n",
      "16 40\n",
      "17 40\n",
      "18 40\n",
      "19 40\n",
      "20 40\n",
      "21 40\n",
      "22 40\n",
      "23 40\n",
      "24 40\n",
      "25 40\n",
      "26 40\n",
      "27 40\n",
      "28 40\n",
      "29 40\n",
      "30 40\n",
      "31 40\n",
      "32 40\n",
      "33 40\n",
      "34 40\n",
      "35 40\n",
      "36 40\n",
      "37 40\n",
      "38 40\n",
      "39 40\n",
      "40 40\n"
     ]
    }
   ],
   "source": [
    "lista_titulos = []\n",
    "lista_precios = []\n",
    "lista_urls = []\n",
    "siguiente = 'https://listado.mercadolibre.com.ar/computador'\n",
    "while True:\n",
    "    r = requests.get(siguiente)\n",
    "    if r.status_code == 200:\n",
    "        boul = BeautifulSoup(r.content, 'html.parser')\n",
    "        #titulos\n",
    "        titulo = boul.find_all('h2', {'class': 'ui-search-item__title shops__item-title'})\n",
    "        titulo = [i.text for i in titulo]\n",
    "        lista_titulos.extend(titulo)\n",
    "        #precios\n",
    "        dom = etree.HTML(str(boul))\n",
    "        precio = (dom.xpath('//li[@class=\"ui-search-layout__item shops__layout-item\"]//div[@class=\"ui-search-result__content-wrapper shops__result-content-wrapper\"]//div[@class=\"ui-search-result__content-columns shops__content-columns\"]//div[@class=\"ui-search-result__content-column ui-search-result__content-column--left shops__content-columns-left\"]/div[1]/div/div/div//span[@class=\"price-tag ui-search-price__part shops__price-part\"]//span[@class=\"price-tag-amount\"]//span[@class=\"price-tag-fraction\"]'))\n",
    "        precio = [i.text for i in precio]\n",
    "        lista_precios.extend(precio)\n",
    "        # urls\n",
    "        urls= boul.find_all('a', {'class':'ui-search-item__group__element shops__items-group-details ui-search-link'})\n",
    "        urls = [i.get('href') for i in urls]\n",
    "        lista_urls.extend(urls)\n",
    "        #validar\n",
    "        init = boul.find('span', {\"class\":'andes-pagination__link'}).text\n",
    "        init = int(init)\n",
    "        end = boul.find('li', {'class':'andes-pagination__page-count'})\n",
    "        end = int(end.text.split(\" \")[1])\n",
    "        \n",
    "    else:\n",
    "        break\n",
    "    print(init, end)\n",
    "\n",
    "    if init == end:\n",
    "        break\n",
    "    siguiente = dom.xpath('//div[@class=\"ui-search-pagination shops__pagination-content\"]/ul/li[contains(@class,\"--next\")]/a')[0].get('href')\n"
   ]
  },
  {
   "cell_type": "code",
   "execution_count": 49,
   "metadata": {},
   "outputs": [
    {
     "name": "stdout",
     "output_type": "stream",
     "text": [
      "2110\n",
      "2105\n",
      "2110\n"
     ]
    }
   ],
   "source": [
    "print(len(lista_titulos))\n",
    "print(len(lista_precios))\n",
    "print(len(lista_urls))"
   ]
  }
 ],
 "metadata": {
  "kernelspec": {
   "display_name": "Python 3",
   "language": "python",
   "name": "python3"
  },
  "language_info": {
   "codemirror_mode": {
    "name": "ipython",
    "version": 3
   },
   "file_extension": ".py",
   "mimetype": "text/x-python",
   "name": "python",
   "nbconvert_exporter": "python",
   "pygments_lexer": "ipython3",
   "version": "3.9.0"
  },
  "orig_nbformat": 4,
  "vscode": {
   "interpreter": {
    "hash": "f93971b2ed2ae2acf08a56daad2afcc3d65f99c2539bcb2f8728c9780619de59"
   }
  }
 },
 "nbformat": 4,
 "nbformat_minor": 2
}
